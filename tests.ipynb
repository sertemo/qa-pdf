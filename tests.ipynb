{
 "cells": [
  {
   "cell_type": "code",
   "execution_count": 9,
   "metadata": {},
   "outputs": [],
   "source": [
    "preguntas = [\"Cuantos es dos mas dos?\",\"Como se llama Pedro?\",\"Quien es quien?\"]\n",
    "respuestas = [\"Dos mas dos es 4\",\"Pedro se llama pedorro\",\"Nadie lo sabe\"]"
   ]
  },
  {
   "cell_type": "code",
   "execution_count": 10,
   "metadata": {},
   "outputs": [],
   "source": [
    "historial_str = \"\"\n",
    "historial_str = historial_str.join([f\"P: {q}\\nR: {a}\\n\\n\" for q,a in zip(preguntas,respuestas)])"
   ]
  },
  {
   "cell_type": "code",
   "execution_count": 11,
   "metadata": {},
   "outputs": [
    {
     "name": "stdout",
     "output_type": "stream",
     "text": [
      "P: Cuantos es dos mas dos?\n",
      "R: Dos mas dos es 4\n",
      "\n",
      "P: Como se llama Pedro?\n",
      "R: Pedro se llama pedorro\n",
      "\n",
      "P: Quien es quien?\n",
      "R: Nadie lo sabe\n",
      "\n",
      "\n"
     ]
    }
   ],
   "source": [
    "print(historial_str)"
   ]
  },
  {
   "cell_type": "code",
   "execution_count": 9,
   "metadata": {},
   "outputs": [
    {
     "data": {
      "text/plain": [
       "'02-06-2023 23:28:56'"
      ]
     },
     "execution_count": 9,
     "metadata": {},
     "output_type": "execute_result"
    }
   ],
   "source": [
    "import datetime\n",
    "\n",
    "datetime.datetime.strftime(datetime.datetime.now(),format=\"%d-%m-%Y %H:%M:%S\")"
   ]
  },
  {
   "cell_type": "code",
   "execution_count": null,
   "metadata": {},
   "outputs": [],
   "source": [
    "import re\n",
    "\n",
    "EMAIL_REGEX = re.compile(r'([A-Za-z0-9]+[.-_])*[A-Za-z0-9]+@[A-Za-z0-9-]+(\\.[A-Z|a-z]{2,})+')\n",
    "\n",
    "def is_valid_mail(email):\n",
    "  if not isinstance(email,str):\n",
    "    return False\n",
    "\n",
    "  if re.fullmatch(EMAIL_REGEX, email):\n",
    "    return True\n",
    "  else:\n",
    "    return False"
   ]
  },
  {
   "attachments": {},
   "cell_type": "markdown",
   "metadata": {},
   "source": [
    "## Lógica para mostrar el documento en el historial"
   ]
  },
  {
   "cell_type": "code",
   "execution_count": 1,
   "metadata": {},
   "outputs": [],
   "source": [
    "session_state = {}\n",
    "session_state[\"preguntas\"] = [\"Como te llamas?\",\"Donde vives?\",\"Cuantos años tienes?\",\"Quien eres?\"]\n",
    "session_state[\"responses\"] = [\"Me llamo pepe\",\"Pepe vive lejos\",\"Tengo 66 años más que el menor de tus hermanos\",\"Soy el que siempre he querido ser\"]\n",
    "session_state[\"documents\"] = [\"caca.pdf\",\"caca.pdf\",\"familiar.pdf\",\"familiar.pdf\"]"
   ]
  },
  {
   "cell_type": "code",
   "execution_count": 10,
   "metadata": {},
   "outputs": [
    {
     "data": {
      "text/plain": [
       "array(['caca.pdf', 'familiar.pdf'], dtype='<U12')"
      ]
     },
     "execution_count": 10,
     "metadata": {},
     "output_type": "execute_result"
    }
   ],
   "source": [
    "import numpy as np\n",
    "docs_array = np.array(session_state[\"documents\"])\n",
    "n_docs = len(np.unique(docs_array))\n",
    "unique_docs = np.unique(docs_array)\n",
    "unique_docs"
   ]
  },
  {
   "attachments": {},
   "cell_type": "markdown",
   "metadata": {},
   "source": [
    "---"
   ]
  },
  {
   "attachments": {},
   "cell_type": "markdown",
   "metadata": {},
   "source": [
    "# Lógica para mostrar solo una vez el documento con todas las preguntas"
   ]
  },
  {
   "attachments": {},
   "cell_type": "markdown",
   "metadata": {},
   "source": [
    "inicio"
   ]
  },
  {
   "cell_type": "code",
   "execution_count": 31,
   "metadata": {},
   "outputs": [],
   "source": [
    "session_state = {}"
   ]
  },
  {
   "attachments": {},
   "cell_type": "markdown",
   "metadata": {},
   "source": [
    "Cargamos un documento"
   ]
  },
  {
   "cell_type": "code",
   "execution_count": 45,
   "metadata": {},
   "outputs": [],
   "source": [
    "uploaded_file = \"carta.pdf\""
   ]
  },
  {
   "attachments": {},
   "cell_type": "markdown",
   "metadata": {},
   "source": [
    "Init"
   ]
  },
  {
   "cell_type": "code",
   "execution_count": 46,
   "metadata": {},
   "outputs": [],
   "source": [
    "if session_state.get(\"docs\",None) is None:\n",
    "    session_state[\"docs\"] = {\n",
    "        uploaded_file : {\n",
    "            \"preguntas\" : [],\n",
    "            \"respuestas\" : [],\n",
    "        }\n",
    "    }\n",
    "if session_state[\"docs\"].get(uploaded_file,None) is None:\n",
    "    session_state[\"docs\"][uploaded_file] = {\n",
    "        \"preguntas\" : [],\n",
    "        \"respuestas\" : [],\n",
    "    }\n"
   ]
  },
  {
   "attachments": {},
   "cell_type": "markdown",
   "metadata": {},
   "source": [
    "Hacemos una pregunta y tenemos respuesta"
   ]
  },
  {
   "cell_type": "code",
   "execution_count": 50,
   "metadata": {},
   "outputs": [],
   "source": [
    "pregunta = \"Que va a pasar con Ucrania ?\"\n",
    "respuesta = \"la va a vendar a oligarcas extranjeros\""
   ]
  },
  {
   "cell_type": "code",
   "execution_count": 51,
   "metadata": {},
   "outputs": [],
   "source": [
    "if uploaded_file is not None and pregunta not in session_state[\"docs\"][uploaded_file][\"preguntas\"]:\n",
    "    session_state[\"docs\"][uploaded_file][\"preguntas\"].append(pregunta)\n",
    "    session_state[\"docs\"][uploaded_file][\"respuestas\"].append(respuesta)\n"
   ]
  },
  {
   "cell_type": "code",
   "execution_count": 52,
   "metadata": {},
   "outputs": [
    {
     "data": {
      "text/plain": [
       "{'docs': {'lIBRO DE CERO A CETO FR.pdf': {'preguntas': ['Qué es una dieta cetogénica ?',\n",
       "    'Qué es el ayuno ?'],\n",
       "   'respuestas': ['es una dieta baja en carbohidratos', 'es no comer']},\n",
       "  'carta.pdf': {'preguntas': ['Quien es zelenski ?',\n",
       "    'Que va a pasar con Ucrania ?'],\n",
       "   'respuestas': ['Es un payaso', 'la va a vendar a oligarcas extranjeros']}}}"
      ]
     },
     "execution_count": 52,
     "metadata": {},
     "output_type": "execute_result"
    }
   ],
   "source": [
    "session_state"
   ]
  },
  {
   "cell_type": "code",
   "execution_count": 4,
   "metadata": {},
   "outputs": [
    {
     "data": {
      "text/plain": [
       "False"
      ]
     },
     "execution_count": 4,
     "metadata": {},
     "output_type": "execute_result"
    }
   ],
   "source": [
    "True and isinstance(False,str)"
   ]
  },
  {
   "cell_type": "code",
   "execution_count": 1,
   "metadata": {},
   "outputs": [],
   "source": [
    "session = {\n",
    "    \"carta.pdf\" : {\n",
    "        \"preguntas\" : [1,2,3,4],\n",
    "        \"respuestas\" : [1,2,3,4]\n",
    "    },\n",
    "    \"paginas.pdf\" : {\n",
    "        \"preguntas\" : [\"a\",\"b\"],\n",
    "        \"respuestas\" : [\"a\",\"b\"],\n",
    "    }\n",
    "\n",
    "}"
   ]
  },
  {
   "cell_type": "code",
   "execution_count": 4,
   "metadata": {},
   "outputs": [
    {
     "name": "stdout",
     "output_type": "stream",
     "text": [
      "('carta.pdf', {'preguntas': [1, 2, 3, 4], 'respuestas': [1, 2, 3, 4]})\n",
      "2\n",
      "('paginas.pdf', {'preguntas': ['a', 'b'], 'respuestas': ['a', 'b']})\n",
      "2\n"
     ]
    }
   ],
   "source": [
    "for idx,doc in enumerate(session.items()):\n",
    "    print(doc)\n",
    "    print(len(doc))"
   ]
  },
  {
   "cell_type": "code",
   "execution_count": null,
   "metadata": {},
   "outputs": [],
   "source": []
  }
 ],
 "metadata": {
  "kernelspec": {
   "display_name": "pytorch",
   "language": "python",
   "name": "python3"
  },
  "language_info": {
   "codemirror_mode": {
    "name": "ipython",
    "version": 3
   },
   "file_extension": ".py",
   "mimetype": "text/x-python",
   "name": "python",
   "nbconvert_exporter": "python",
   "pygments_lexer": "ipython3",
   "version": "3.9.16"
  },
  "orig_nbformat": 4
 },
 "nbformat": 4,
 "nbformat_minor": 2
}
